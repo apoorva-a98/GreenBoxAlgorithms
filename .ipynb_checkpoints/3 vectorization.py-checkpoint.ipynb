{
 "cells": [
  {
   "cell_type": "code",
   "execution_count": 1,
   "metadata": {},
   "outputs": [],
   "source": [
    "import xlwt\n",
    "from xlwt import Workbook\n",
    "import spacy\n",
    "import operator\n",
    "import numpy as np\n",
    "import math\n",
    "import pandas as pd\n",
    "from pandas import DataFrame\n",
    "import json"
   ]
  },
  {
   "cell_type": "code",
   "execution_count": 2,
   "metadata": {},
   "outputs": [],
   "source": [
    "# INITIALIZING SPACY AND ITS 'en' MODEL\n",
    "nlp = spacy.load(\"en_core_web_md\")"
   ]
  },
  {
   "cell_type": "code",
   "execution_count": 4,
   "metadata": {},
   "outputs": [],
   "source": [
    "#READ PoS\n",
    "def read_partofspeech(POS):\n",
    "        sheet = []\n",
    "        sheet = pd.read_excel('companies_glossary/'+POS+'.xlsx', usecols='B:I')\n",
    "        sheet = sheet.values.tolist()\n",
    "        return sheet\n",
    "# print(read_partofspeech(\"Nouns\"))"
   ]
  },
  {
   "cell_type": "code",
   "execution_count": 7,
   "metadata": {},
   "outputs": [],
   "source": [
    "Nouns=read_partofspeech(\"Nouns\")"
   ]
  },
  {
   "cell_type": "code",
   "execution_count": null,
   "metadata": {},
   "outputs": [],
   "source": [
    "# VECTORISING GLOSSARY\n",
    "def sorting_similar_words(words):\n",
    "    i=0\n",
    "    j=i+1\n",
    "    while(i != j):\n",
    "        count=0\n",
    "        for j in range(i+1,len(words),1):\n",
    "            token = nlp(words[i][2]+' '+words[j][2])\n",
    "            print(token[0].lemma_, token[1].lemma_,token[0].similarity(token[1]))"
   ]
  },
  {
   "cell_type": "code",
   "execution_count": null,
   "metadata": {},
   "outputs": [],
   "source": [
    "sorting_similar_words(Nouns)"
   ]
  }
 ],
 "metadata": {
  "kernelspec": {
   "display_name": "Python 3",
   "language": "python",
   "name": "python3"
  },
  "language_info": {
   "codemirror_mode": {
    "name": "ipython",
    "version": 3
   },
   "file_extension": ".py",
   "mimetype": "text/x-python",
   "name": "python",
   "nbconvert_exporter": "python",
   "pygments_lexer": "ipython3",
   "version": "3.8.2"
  }
 },
 "nbformat": 4,
 "nbformat_minor": 4
}
